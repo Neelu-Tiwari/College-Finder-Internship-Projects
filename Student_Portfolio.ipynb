{
  "nbformat": 4,
  "nbformat_minor": 0,
  "metadata": {
    "colab": {
      "name": "Student Portfolio.ipynb",
      "provenance": []
    },
    "kernelspec": {
      "name": "python3",
      "display_name": "Python 3"
    },
    "language_info": {
      "name": "python"
    }
  },
  "cells": [
    {
      "cell_type": "code",
      "metadata": {
        "colab": {
          "base_uri": "https://localhost:8080/"
        },
        "id": "sttrX0Zfh1mc",
        "outputId": "f1c0d8e6-6c6f-4b7f-91c8-1255893d93a2"
      },
      "source": [
        "print(\"Student Portfolio\")\n",
        "print(\"*\" * 20,\"\\n\" )\n",
        "\n",
        "#student details\n",
        "print(\"Student Details\")\n",
        "print(\"-\" * 20)\n",
        "name = str(input(\"Enter Student Name :\"))\n",
        "std = int(input(\"Standard: \"))\n",
        "roll = int(input(\"Roll No. :\"))\n",
        "\n",
        "#student marks\n",
        "print(\"\\nEnter Marks\")\n",
        "print(\"-\" * 20)\n",
        "p = int(input(\"Physics : \"))\n",
        "c = int(input(\"Chemistry : \"))\n",
        "m = int(input(\"Mathematics : \"))\n",
        "Total_marks = p+c+m\n",
        "\n",
        "#student result\n",
        "print(\"\\nResult\")\n",
        "print(\"-\" * 20)\n",
        "print(\"Total Obtained Marks =\", Total_marks)\n",
        "percentage=(Total_marks/300)*100\n",
        "print(\"Percentage=\", percentage)\n",
        "\n",
        "if percentage > 60:\n",
        "  print(\"Passed with First Division\")\n",
        "else:\n",
        "  print(\"Second Division\")"
      ],
      "execution_count": 36,
      "outputs": [
        {
          "output_type": "stream",
          "text": [
            "Student Portfolio\n",
            "******************** \n",
            "\n",
            "Student Details\n",
            "--------------------\n",
            "Enter Student Name :Jai Sinha\n",
            "Standard: 12\n",
            "Roll No. :1256\n",
            "\n",
            "Enter Marks\n",
            "--------------------\n",
            "Physics : 89\n",
            "Chemistry : 56\n",
            "Mathematics : 78\n",
            "\n",
            "Result\n",
            "--------------------\n",
            "Total Obtained Marks = 223\n",
            "Percentage= 74.33333333333333\n",
            "Passed with First Division\n"
          ],
          "name": "stdout"
        }
      ]
    }
  ]
}