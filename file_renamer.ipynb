{
  "nbformat": 4,
  "nbformat_minor": 0,
  "metadata": {
    "colab": {
      "name": "file_renamer.ipynb",
      "provenance": [],
      "collapsed_sections": []
    },
    "kernelspec": {
      "name": "python3",
      "display_name": "Python 3"
    },
    "language_info": {
      "name": "python"
    }
  },
  "cells": [
    {
      "cell_type": "code",
      "metadata": {
        "id": "yStZkxpkVOpz"
      },
      "source": [
        "import os\n",
        "\n",
        "def renamer():\n",
        "    i = 0 # initiate/iterate over files or lists\n",
        "    path = \"/content/image/\"\n",
        "    for filename in os.listdir(path):\n",
        "        names = f\"image {i}.jpg\"\n",
        "        src = path + filename\n",
        "        dest = path + names\n",
        "        \n",
        "        os.rename(src,dest)\n",
        "        i = i + 1\n",
        "    \n",
        "if __name__ == \"__main__\":\n",
        "    renamer()"
      ],
      "execution_count": 5,
      "outputs": []
    }
  ]
}