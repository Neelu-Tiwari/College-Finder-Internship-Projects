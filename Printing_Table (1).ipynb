{
  "nbformat": 4,
  "nbformat_minor": 0,
  "metadata": {
    "colab": {
      "name": "Printing Table.ipynb",
      "provenance": [],
      "collapsed_sections": []
    },
    "kernelspec": {
      "name": "python3",
      "display_name": "Python 3"
    },
    "language_info": {
      "name": "python"
    }
  },
  "cells": [
    {
      "cell_type": "markdown",
      "metadata": {
        "id": "ZZoZvWZu2O8I"
      },
      "source": [
        "## Printing Table"
      ]
    },
    {
      "cell_type": "code",
      "metadata": {
        "colab": {
          "base_uri": "https://localhost:8080/"
        },
        "id": "JDkd0YG52Uf4",
        "outputId": "3d89eec4-7168-4d8d-f8a4-75217b117438"
      },
      "source": [
        "num = int(input(\"Enter the number: \"))\n",
        "print(\"*\"*20)\n",
        "for i in range (1, 13):\n",
        "  print(num, \"x\", i, \"=\", num*i)\n",
        "  i= i+1"
      ],
      "execution_count": 4,
      "outputs": [
        {
          "output_type": "stream",
          "text": [
            "Enter the number: 236\n",
            "********************\n",
            "236 x 1 = 236\n",
            "236 x 2 = 472\n",
            "236 x 3 = 708\n",
            "236 x 4 = 944\n",
            "236 x 5 = 1180\n",
            "236 x 6 = 1416\n",
            "236 x 7 = 1652\n",
            "236 x 8 = 1888\n",
            "236 x 9 = 2124\n",
            "236 x 10 = 2360\n",
            "236 x 11 = 2596\n",
            "236 x 12 = 2832\n"
          ],
          "name": "stdout"
        }
      ]
    }
  ]
}