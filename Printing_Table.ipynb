{
  "nbformat": 4,
  "nbformat_minor": 0,
  "metadata": {
    "colab": {
      "name": "Printing Table.ipynb",
      "provenance": [],
      "collapsed_sections": []
    },
    "kernelspec": {
      "name": "python3",
      "display_name": "Python 3"
    },
    "language_info": {
      "name": "python"
    }
  },
  "cells": [
    {
      "cell_type": "markdown",
      "metadata": {
        "id": "ZZoZvWZu2O8I"
      },
      "source": [
        "## Printing Table"
      ]
    },
    {
      "cell_type": "code",
      "metadata": {
        "colab": {
          "base_uri": "https://localhost:8080/"
        },
        "id": "JDkd0YG52Uf4",
        "outputId": "85437d2f-0c91-48e7-aa38-5d086e106daa"
      },
      "source": [
        "num = int(input(\"Enter the number: \"))\n",
        "for i in range (1, 13):\n",
        "  print(num, \"x\", i, \"=\", num*i)\n",
        "  i= i+1"
      ],
      "execution_count": 3,
      "outputs": [
        {
          "output_type": "stream",
          "text": [
            "Enter the number: 89\n",
            "89 x 1 = 89\n",
            "89 x 2 = 178\n",
            "89 x 3 = 267\n",
            "89 x 4 = 356\n",
            "89 x 5 = 445\n",
            "89 x 6 = 534\n",
            "89 x 7 = 623\n",
            "89 x 8 = 712\n",
            "89 x 9 = 801\n",
            "89 x 10 = 890\n",
            "89 x 11 = 979\n",
            "89 x 12 = 1068\n"
          ],
          "name": "stdout"
        }
      ]
    }
  ]
}